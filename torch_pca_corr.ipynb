{
 "cells": [
  {
   "cell_type": "markdown",
   "id": "b0bea024",
   "metadata": {
    "cell_marker": "\"\"\"",
    "lines_to_next_cell": 0
   },
   "source": [
    "\n",
    "# Torch intro\n",
    "\n",
    "For this notebook to work, you need to run on a GPU-enabled server (choose `GPU Server` from the `Server Options` screen at startup)."
   ]
  },
  {
   "cell_type": "code",
   "execution_count": null,
   "id": "9f2708b1",
   "metadata": {},
   "outputs": [],
   "source": [
    "import torch\n",
    "import numpy as np\n",
    "\n",
    "from pandas.api.types import is_numeric_dtype\n",
    "\n",
    "import matplotlib.pyplot as plt\n",
    "%matplotlib widget"
   ]
  },
  {
   "cell_type": "code",
   "execution_count": null,
   "id": "28a9f252",
   "metadata": {},
   "outputs": [],
   "source": [
    "# Check that GPU is available, and that pyTorch is using it\n",
    "!nvidia-smi\n",
    "print(f'Torch is using CUDA: {torch.cuda.is_available()}')"
   ]
  },
  {
   "cell_type": "code",
   "execution_count": null,
   "id": "d801a622",
   "metadata": {
    "lines_to_next_cell": 0
   },
   "outputs": [],
   "source": [
    "!pip install -q git+https://github.com/wara-ops/DataportalClient.git@v1.0.4"
   ]
  },
  {
   "cell_type": "code",
   "execution_count": null,
   "id": "3e14ce1b",
   "metadata": {},
   "outputs": [],
   "source": [
    "from dataportal import DataportalClient\n",
    "\n",
    "token = ''\n",
    "client = DataportalClient(token)\n",
    "list(client.fromDataset('5Gdata').listFiles())[:3]"
   ]
  },
  {
   "cell_type": "code",
   "execution_count": null,
   "id": "92725dc2",
   "metadata": {},
   "outputs": [],
   "source": [
    "df_raw = client.getData(36443)\n",
    "df_raw"
   ]
  },
  {
   "cell_type": "code",
   "execution_count": null,
   "id": "e5d46026",
   "metadata": {},
   "outputs": [],
   "source": [
    "# Extract all columns with numeric types\n",
    "numeric_cols = []\n",
    "for col in df_raw.columns:\n",
    "    if is_numeric_dtype(df_raw[col].dtype):\n",
    "        numeric_cols.append(col)\n",
    "df = df_raw[numeric_cols]\n",
    "\n",
    "df.info(memory_usage='deep')"
   ]
  },
  {
   "cell_type": "code",
   "execution_count": null,
   "id": "3443475a",
   "metadata": {},
   "outputs": [],
   "source": [
    "# Cast dataframe into a torch tensor on GPU\n",
    "X = torch.from_numpy(df.to_numpy('float64')).to('cuda')\n",
    "\n",
    "# Standardize data to zero mean, unit variance\n",
    "X_mean = torch.mean(X, 0)\n",
    "X_std = torch.std(X, 0)\n",
    "for (i, x) in enumerate(X_std):\n",
    "    if x == 0:\n",
    "        X_std[i] = torch.tensor([1])\n",
    "X_norm = (X - X_mean) / X_std"
   ]
  },
  {
   "cell_type": "code",
   "execution_count": null,
   "id": "fb8113a5",
   "metadata": {},
   "outputs": [],
   "source": [
    "# Calculate the correlation between columns\n",
    "X_corr = torch.corrcoef(torch.t(X_norm))\n",
    "\n",
    "# Save to memory from GPU and then plot the results\n",
    "plt.matshow(X_corr.cpu())\n",
    "plt.title('Correlation between columns')\n",
    "plt.show()"
   ]
  },
  {
   "cell_type": "code",
   "execution_count": null,
   "id": "60a7d310",
   "metadata": {},
   "outputs": [],
   "source": [
    "# Perform singular value decomposition, and cast results to memory from GPU\n",
    "U, V, S = torch.linalg.svd(X_norm, full_matrices=False)\n",
    "T = (U*V).cpu()\n",
    "\n",
    "# Plot the singular values\n",
    "plt.figure()\n",
    "plt.stem(V.cpu())\n",
    "plt.title('Singular values')\n",
    "plt.show()\n",
    "\n",
    "# Plot a subset of datapoints in 2D corresponding to the 2 largest singular values\n",
    "nbrprint = 10000\n",
    "points = np.random.choice(T.shape[0], nbrprint, replace=False)\n",
    "\n",
    "plt.figure()\n",
    "plt.plot(T[points, 0], T[points, 1], '.')\n",
    "plt.title('Data reduced from 26 to 2 dimensions')\n",
    "plt.show()"
   ]
  }
 ],
 "metadata": {
  "jupytext": {
   "cell_markers": "\"\"\""
  },
  "kernelspec": {
   "display_name": "Python 3 (ipykernel)",
   "language": "python",
   "name": "python3"
  }
 },
 "nbformat": 4,
 "nbformat_minor": 5
}
